{
 "cells": [
  {
   "cell_type": "code",
   "execution_count": null,
   "id": "6c380b32-17c6-4a03-a040-807aaf4c4035",
   "metadata": {},
   "outputs": [],
   "source": [
    "##1   In object-oriented programming, a class is a template definition of the methods and variables in a particular kind of object.Thus, an object is a specific instance of a class; it contains real values instead of variables. The class is one of the defining ideas of object-oriented programming.\n",
    "##   Object − Objects have states and behaviors. Example: A dog has states - color, name, breed as well as behaviors\n",
    "##  For example, let's consider a Class called \"Person\" which can be used to represent people. This Class can have attributes such as name, age, height, weight, and methods such as eat(), sleep(), walk(), and talk().We can create an object of this Class by instantiating it with a specific set of values for its attributes"
   ]
  },
  {
   "cell_type": "code",
   "execution_count": null,
   "id": "cd5a60db-4244-4413-b67e-15b92f0049b1",
   "metadata": {},
   "outputs": [],
   "source": [
    "#   The four pillars of Object-Oriented Programming (OOPs) are:\n",
    "\n",
    "Encapsulation: Encapsulation is the process of binding data and functions that operate on that data within a single unit, called a Class. The Class provides a level of abstraction and protects the data from external access, which helps to ensure that the data is accessed and modified only through the methods provided by the Class.\n",
    "\n",
    "Inheritance: Inheritance allows a Class to inherit the properties and behavior of another Class, called the Parent or Super Class. The Child or Sub Class can then add or modify the properties and behavior of the Parent Class, which promotes code reusability and reduces code redundancy.\n",
    "\n",
    "Polymorphism: Polymorphism refers to the ability of an object to take on many forms. In OOP, polymorphism can be achieved through method overriding and method overloading. Method overriding allows a Sub Class to provide a specific implementation of a method that is already provided by its Parent Class. Method overloading allows a Class to have multiple methods with the same name, but with different parameters.\n",
    "\n",
    "Abstraction: Abstraction refers to the process of hiding complex implementation details from the user and presenting only the essential features or functionalities. Abstraction can be achieved in OOP through the use of abstract Classes and interfaces. An abstract Class is a Class that cannot be instantiated and must be inherited by its Sub Classes, which then provide a specific implementation of its methods. An interface is a collection of abstract methods that define a contract for the behavior of a Class, without providing an implementation.\n",
    "\n"
   ]
  },
  {
   "cell_type": "code",
   "execution_count": null,
   "id": "4ef3b7c9-674b-433a-a2bf-15daf5832b7d",
   "metadata": {
    "scrolled": true,
    "tags": []
   },
   "outputs": [],
   "source": [
    "## In Object-Oriented Programming (OOP), the init() function is a special method that is automatically called when an object of a Class is created. It is used to initialize the attributes (data members) of the object with the values provided by the user.\n",
    "\n",
    "The init() function is also known as a constructor because it constructs or creates an instance of the Class.\n",
    "\n",
    "Here's an example:"
   ]
  },
  {
   "cell_type": "code",
   "execution_count": 1,
   "id": "d9e6a279-5179-4ba3-9885-09577d7f3d4b",
   "metadata": {},
   "outputs": [],
   "source": [
    "class Car:\n",
    "    def __init__(self, make, model, year):\n",
    "        self.make = make\n",
    "        self.model = model\n",
    "        self.year = year\n",
    "        self.speed = 0\n",
    "        \n",
    "    def accelerate(self, increment):\n",
    "        self.speed += increment\n",
    "        \n",
    "    def brake(self, decrement):\n",
    "        self.speed -= decrement\n",
    "        \n",
    "    def get_speed(self):\n",
    "        return self.speed\n",
    "        \n"
   ]
  },
  {
   "cell_type": "code",
   "execution_count": null,
   "id": "7809fd4b-9089-414c-938d-ffdc58336624",
   "metadata": {},
   "outputs": [],
   "source": [
    "car1 = Car(\"Toyota\", \"Corolla\", 2021)"
   ]
  },
  {
   "cell_type": "code",
   "execution_count": null,
   "id": "8e2f6459-2e0a-4651-9ab3-eca7203bc7d9",
   "metadata": {},
   "outputs": [],
   "source": [
    "## In Object-Oriented Programming (OOP), the \"self\" keyword is used to refer to the current instance of a Class. It is a convention in Python, and some other OOP languages, to use \"self\" as the first parameter of instance methods, including the constructor (init() method).\n",
    "When we create an object of a Class, we need a way to differentiate the attributes (data members) and methods of that specific object from those of other objects of the same Class. This is where \"self\" comes into play.\n",
    "By convention, \"self\" is used to refer to the instance of the Class that the method is being called on. When a method is called on an object, Python automatically passes the object as the first argument (which is referred to as \"self\") to the method."
   ]
  },
  {
   "cell_type": "code",
   "execution_count": null,
   "id": "40c759c7-b41f-4365-a289-70dadc01b06a",
   "metadata": {},
   "outputs": [],
   "source": [
    "##Inheritance is a fundamental concept in Object-Oriented Programming (OOP) that allows a new Class to be based on an existing Class (or Classes), inheriting its attributes and methods. The existing Class is called the Parent Class or Super Class, and the new Class is called the Child Class or Sub Class.\n",
    "\n",
    "There are several types of inheritance in OOP:\n",
    "\n",
    "Single inheritance: When a Child Class inherits from a single Parent Class."
   ]
  },
  {
   "cell_type": "code",
   "execution_count": null,
   "id": "aea09dbb-95dc-4640-af3c-d98d75de82f7",
   "metadata": {},
   "outputs": [],
   "source": []
  }
 ],
 "metadata": {
  "kernelspec": {
   "display_name": "Python 3 (ipykernel)",
   "language": "python",
   "name": "python3"
  },
  "language_info": {
   "codemirror_mode": {
    "name": "ipython",
    "version": 3
   },
   "file_extension": ".py",
   "mimetype": "text/x-python",
   "name": "python",
   "nbconvert_exporter": "python",
   "pygments_lexer": "ipython3",
   "version": "3.10.6"
  }
 },
 "nbformat": 4,
 "nbformat_minor": 5
}
